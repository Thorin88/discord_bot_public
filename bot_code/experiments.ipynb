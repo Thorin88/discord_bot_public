{
 "cells": [
  {
   "cell_type": "markdown",
   "id": "258b564f",
   "metadata": {},
   "source": [
    "# Scraping Code\n",
    "\n",
    "Some code to get some data from various websites.\n",
    "\n",
    "Could later be moved to a function that the bot can use, as part of an ETL pipeline process.\n",
    "\n",
    "https://runescape.wiki/w/Application_programming_interface#Grand_Exchange_Database_API\n",
    "\n",
    "Item IDs can be found manually at: https://www.itemdb.biz/index.php"
   ]
  },
  {
   "cell_type": "code",
   "execution_count": 1,
   "id": "0314b445",
   "metadata": {},
   "outputs": [],
   "source": [
    "import requests\n",
    "import pandas as pd\n",
    "\n",
    "from pathlib import Path\n",
    "\n",
    "# Couldn't find a great way to query item IDs from name, so using manually found IDs.\n",
    "def get_item_rs3(item_id, item_name, base_savepath):\n",
    "    \n",
    "    proc_item_name = item_name.replace(\" \", \"_\")\n",
    "     \n",
    "    url = \"https://services.runescape.com/m=itemdb_rs/obj_sprite.gif?id=\"+str(item_id)\n",
    "\n",
    "    filename = base_savepath + proc_item_name + '.png'\n",
    "    # Don't scrape file unnecessarily\n",
    "    if Path(filename).exists():\n",
    "        print(filename,\"already exists, skipped.\")\n",
    "        return proc_item_name, filename\n",
    "    \n",
    "    img_data = requests.get(url).content\n",
    "    with open(filename, 'wb') as handler:\n",
    "        handler.write(img_data)\n",
    "    \n",
    "    return proc_item_name, filename\n",
    "\n",
    "def get_items_rs3(item_ids: list, item_names: list, drop_rate: list, boss=None) -> None:\n",
    "    \n",
    "    assert len(item_ids) == len(item_names) and len(drop_rate) == len(item_ids), \"The lists provided need to be of equal length\"\n",
    "    \n",
    "    to_get = zip(item_ids, item_names, drop_rate)\n",
    "    \n",
    "    extra_filepath=\"\"\n",
    "    if boss is not None:\n",
    "        extra_filepath = boss + \"/\"\n",
    "    base_filepath = \"./data/items/\" + extra_filepath\n",
    "    # Make the directories if not present\n",
    "    Path(base_filepath).mkdir(parents=True, exist_ok=True)\n",
    "    \n",
    "    data_collected = []\n",
    "    for ID, name, dr in to_get:\n",
    "        proc_name, file = get_item_rs3(ID, name, base_filepath)\n",
    "        print(proc_name,\"image saved to\",file)\n",
    "        \n",
    "        data_collected.append([ID, proc_name, file, dr])\n",
    "        \n",
    "    df = pd.DataFrame(data_collected, columns=[\"id\",\"name\",\"filepath\",\"drop_rate\"])\n",
    "    display(df)\n",
    "    csv_savepath = base_filepath + \"lookup_data.csv\"\n",
    "    df.to_csv(csv_savepath, index=False)\n",
    "    print(\"Summary CSV saved to\",csv_savepath)\n",
    "    return df"
   ]
  },
  {
   "cell_type": "markdown",
   "id": "940e5a06",
   "metadata": {},
   "source": [
    "# Scraping\n",
    "\n",
    "Could be added to a cleanup/recovery ETL process"
   ]
  },
  {
   "cell_type": "markdown",
   "id": "b42cbe46",
   "metadata": {},
   "source": [
    "### Kerapac"
   ]
  },
  {
   "cell_type": "code",
   "execution_count": 2,
   "id": "f8743d23",
   "metadata": {},
   "outputs": [
    {
     "name": "stdout",
     "output_type": "stream",
     "text": [
      "Greater_Concentrated_blast_ability_codex image saved to ./data/items/kerapac/Greater_Concentrated_blast_ability_codex.png\n",
      "Scripture_of_Jas image saved to ./data/items/kerapac/Scripture_of_Jas.png\n",
      "Kerapac's_wrist_wraps image saved to ./data/items/kerapac/Kerapac's_wrist_wraps.png\n",
      "Fractured_Armadyl_symbol image saved to ./data/items/kerapac/Fractured_Armadyl_symbol.png\n",
      "Fractured_stabilisation_gem image saved to ./data/items/kerapac/Fractured_stabilisation_gem.png\n",
      "Staff_of_Armadyl's_fractured_shaft image saved to ./data/items/kerapac/Staff_of_Armadyl's_fractured_shaft.png\n",
      "Kerapac's_mask_piece image saved to ./data/items/kerapac/Kerapac's_mask_piece.png\n"
     ]
    },
    {
     "data": {
      "text/html": [
       "<div>\n",
       "<style scoped>\n",
       "    .dataframe tbody tr th:only-of-type {\n",
       "        vertical-align: middle;\n",
       "    }\n",
       "\n",
       "    .dataframe tbody tr th {\n",
       "        vertical-align: top;\n",
       "    }\n",
       "\n",
       "    .dataframe thead th {\n",
       "        text-align: right;\n",
       "    }\n",
       "</style>\n",
       "<table border=\"1\" class=\"dataframe\">\n",
       "  <thead>\n",
       "    <tr style=\"text-align: right;\">\n",
       "      <th></th>\n",
       "      <th>id</th>\n",
       "      <th>name</th>\n",
       "      <th>filepath</th>\n",
       "      <th>drop_rate</th>\n",
       "    </tr>\n",
       "  </thead>\n",
       "  <tbody>\n",
       "    <tr>\n",
       "      <th>0</th>\n",
       "      <td>51096</td>\n",
       "      <td>Greater_Concentrated_blast_ability_codex</td>\n",
       "      <td>./data/items/kerapac/Greater_Concentrated_blas...</td>\n",
       "      <td>0.001732</td>\n",
       "    </tr>\n",
       "    <tr>\n",
       "      <th>1</th>\n",
       "      <td>51812</td>\n",
       "      <td>Scripture_of_Jas</td>\n",
       "      <td>./data/items/kerapac/Scripture_of_Jas.png</td>\n",
       "      <td>0.001732</td>\n",
       "    </tr>\n",
       "    <tr>\n",
       "      <th>2</th>\n",
       "      <td>51770</td>\n",
       "      <td>Kerapac's_wrist_wraps</td>\n",
       "      <td>./data/items/kerapac/Kerapac's_wrist_wraps.png</td>\n",
       "      <td>0.001732</td>\n",
       "    </tr>\n",
       "    <tr>\n",
       "      <th>3</th>\n",
       "      <td>51776</td>\n",
       "      <td>Fractured_Armadyl_symbol</td>\n",
       "      <td>./data/items/kerapac/Fractured_Armadyl_symbol.png</td>\n",
       "      <td>0.002222</td>\n",
       "    </tr>\n",
       "    <tr>\n",
       "      <th>4</th>\n",
       "      <td>51779</td>\n",
       "      <td>Fractured_stabilisation_gem</td>\n",
       "      <td>./data/items/kerapac/Fractured_stabilisation_g...</td>\n",
       "      <td>0.002222</td>\n",
       "    </tr>\n",
       "    <tr>\n",
       "      <th>5</th>\n",
       "      <td>51782</td>\n",
       "      <td>Staff_of_Armadyl's_fractured_shaft</td>\n",
       "      <td>./data/items/kerapac/Staff_of_Armadyl's_fractu...</td>\n",
       "      <td>0.002222</td>\n",
       "    </tr>\n",
       "    <tr>\n",
       "      <th>6</th>\n",
       "      <td>51862</td>\n",
       "      <td>Kerapac's_mask_piece</td>\n",
       "      <td>./data/items/kerapac/Kerapac's_mask_piece.png</td>\n",
       "      <td>0.000667</td>\n",
       "    </tr>\n",
       "  </tbody>\n",
       "</table>\n",
       "</div>"
      ],
      "text/plain": [
       "      id                                      name  \\\n",
       "0  51096  Greater_Concentrated_blast_ability_codex   \n",
       "1  51812                          Scripture_of_Jas   \n",
       "2  51770                     Kerapac's_wrist_wraps   \n",
       "3  51776                  Fractured_Armadyl_symbol   \n",
       "4  51779               Fractured_stabilisation_gem   \n",
       "5  51782        Staff_of_Armadyl's_fractured_shaft   \n",
       "6  51862                      Kerapac's_mask_piece   \n",
       "\n",
       "                                            filepath  drop_rate  \n",
       "0  ./data/items/kerapac/Greater_Concentrated_blas...   0.001732  \n",
       "1          ./data/items/kerapac/Scripture_of_Jas.png   0.001732  \n",
       "2     ./data/items/kerapac/Kerapac's_wrist_wraps.png   0.001732  \n",
       "3  ./data/items/kerapac/Fractured_Armadyl_symbol.png   0.002222  \n",
       "4  ./data/items/kerapac/Fractured_stabilisation_g...   0.002222  \n",
       "5  ./data/items/kerapac/Staff_of_Armadyl's_fractu...   0.002222  \n",
       "6      ./data/items/kerapac/Kerapac's_mask_piece.png   0.000667  "
      ]
     },
     "metadata": {},
     "output_type": "display_data"
    },
    {
     "name": "stdout",
     "output_type": "stream",
     "text": [
      "Summary CSV saved to ./data/items/kerapac/lookup_data.csv\n",
      "Finished.\n"
     ]
    }
   ],
   "source": [
    "# Kerapac items\n",
    "get_items_rs3([51096, 51812, 51770,\n",
    "               51776, 51779, 51782,\n",
    "               51862],\n",
    "              [\"Greater Concentrated blast ability codex\",\"Scripture of Jas\",\"Kerapac's wrist wraps\",\n",
    "               \"Fractured Armadyl symbol\", \"Fractured stabilisation gem\", \"Staff of Armadyl's fractured shaft\",\n",
    "               \"Kerapac's mask piece\"],\n",
    "              [449/259200, 449/259200, 449/259200,\n",
    "               1/450, 1/450, 1/450,\n",
    "               1/1500]\n",
    "              ,boss=\"kerapac\")\n",
    "print(\"Finished.\")"
   ]
  },
  {
   "cell_type": "code",
   "execution_count": 3,
   "id": "90b45851",
   "metadata": {},
   "outputs": [
    {
     "name": "stdout",
     "output_type": "stream",
     "text": [
      "Greater_Ricochet_ability_codex image saved to ./data/items/raksha/Greater_Ricochet_ability_codex.png\n",
      "Greater_Chain_ability_codex image saved to ./data/items/raksha/Greater_Chain_ability_codex.png\n",
      "Shadow_spike image saved to ./data/items/raksha/Shadow_spike.png\n",
      "Divert_ability_codex image saved to ./data/items/raksha/Divert_ability_codex.png\n",
      "Laceration_boots image saved to ./data/items/raksha/Laceration_boots.png\n",
      "Blast_diffusion_boots image saved to ./data/items/raksha/Blast_diffusion_boots.png\n",
      "Fleeting_boots image saved to ./data/items/raksha/Fleeting_boots.png\n",
      "Broken_shackle image saved to ./data/items/raksha/Broken_shackle.png\n"
     ]
    },
    {
     "data": {
      "text/html": [
       "<div>\n",
       "<style scoped>\n",
       "    .dataframe tbody tr th:only-of-type {\n",
       "        vertical-align: middle;\n",
       "    }\n",
       "\n",
       "    .dataframe tbody tr th {\n",
       "        vertical-align: top;\n",
       "    }\n",
       "\n",
       "    .dataframe thead th {\n",
       "        text-align: right;\n",
       "    }\n",
       "</style>\n",
       "<table border=\"1\" class=\"dataframe\">\n",
       "  <thead>\n",
       "    <tr style=\"text-align: right;\">\n",
       "      <th></th>\n",
       "      <th>id</th>\n",
       "      <th>name</th>\n",
       "      <th>filepath</th>\n",
       "      <th>drop_rate</th>\n",
       "    </tr>\n",
       "  </thead>\n",
       "  <tbody>\n",
       "    <tr>\n",
       "      <th>0</th>\n",
       "      <td>51094</td>\n",
       "      <td>Greater_Ricochet_ability_codex</td>\n",
       "      <td>./data/items/raksha/Greater_Ricochet_ability_c...</td>\n",
       "      <td>0.002</td>\n",
       "    </tr>\n",
       "    <tr>\n",
       "      <th>1</th>\n",
       "      <td>51096</td>\n",
       "      <td>Greater_Chain_ability_codex</td>\n",
       "      <td>./data/items/raksha/Greater_Chain_ability_code...</td>\n",
       "      <td>0.002</td>\n",
       "    </tr>\n",
       "    <tr>\n",
       "      <th>2</th>\n",
       "      <td>51086</td>\n",
       "      <td>Shadow_spike</td>\n",
       "      <td>./data/items/raksha/Shadow_spike.png</td>\n",
       "      <td>0.002</td>\n",
       "    </tr>\n",
       "    <tr>\n",
       "      <th>3</th>\n",
       "      <td>51098</td>\n",
       "      <td>Divert_ability_codex</td>\n",
       "      <td>./data/items/raksha/Divert_ability_codex.png</td>\n",
       "      <td>0.002</td>\n",
       "    </tr>\n",
       "    <tr>\n",
       "      <th>4</th>\n",
       "      <td>48083</td>\n",
       "      <td>Laceration_boots</td>\n",
       "      <td>./data/items/raksha/Laceration_boots.png</td>\n",
       "      <td>0.005</td>\n",
       "    </tr>\n",
       "    <tr>\n",
       "      <th>5</th>\n",
       "      <td>48087</td>\n",
       "      <td>Blast_diffusion_boots</td>\n",
       "      <td>./data/items/raksha/Blast_diffusion_boots.png</td>\n",
       "      <td>0.005</td>\n",
       "    </tr>\n",
       "    <tr>\n",
       "      <th>6</th>\n",
       "      <td>51084</td>\n",
       "      <td>Fleeting_boots</td>\n",
       "      <td>./data/items/raksha/Fleeting_boots.png</td>\n",
       "      <td>0.005</td>\n",
       "    </tr>\n",
       "    <tr>\n",
       "      <th>7</th>\n",
       "      <td>51102</td>\n",
       "      <td>Broken_shackle</td>\n",
       "      <td>./data/items/raksha/Broken_shackle.png</td>\n",
       "      <td>0.001</td>\n",
       "    </tr>\n",
       "  </tbody>\n",
       "</table>\n",
       "</div>"
      ],
      "text/plain": [
       "      id                            name  \\\n",
       "0  51094  Greater_Ricochet_ability_codex   \n",
       "1  51096     Greater_Chain_ability_codex   \n",
       "2  51086                    Shadow_spike   \n",
       "3  51098            Divert_ability_codex   \n",
       "4  48083                Laceration_boots   \n",
       "5  48087           Blast_diffusion_boots   \n",
       "6  51084                  Fleeting_boots   \n",
       "7  51102                  Broken_shackle   \n",
       "\n",
       "                                            filepath  drop_rate  \n",
       "0  ./data/items/raksha/Greater_Ricochet_ability_c...      0.002  \n",
       "1  ./data/items/raksha/Greater_Chain_ability_code...      0.002  \n",
       "2               ./data/items/raksha/Shadow_spike.png      0.002  \n",
       "3       ./data/items/raksha/Divert_ability_codex.png      0.002  \n",
       "4           ./data/items/raksha/Laceration_boots.png      0.005  \n",
       "5      ./data/items/raksha/Blast_diffusion_boots.png      0.005  \n",
       "6             ./data/items/raksha/Fleeting_boots.png      0.005  \n",
       "7             ./data/items/raksha/Broken_shackle.png      0.001  "
      ]
     },
     "metadata": {},
     "output_type": "display_data"
    },
    {
     "name": "stdout",
     "output_type": "stream",
     "text": [
      "Summary CSV saved to ./data/items/raksha/lookup_data.csv\n",
      "Finished.\n"
     ]
    }
   ],
   "source": [
    "# Raksha items\n",
    "get_items_rs3([51094, 51096, 51086,\n",
    "               51098, 48083, 48087,\n",
    "               51084,\n",
    "               51102],\n",
    "              [\"Greater Ricochet ability codex\",\"Greater Chain ability codex\",\"Shadow spike\",\n",
    "               \"Divert ability codex\", \"Laceration boots\", \"Blast diffusion boots\",\n",
    "               \"Fleeting boots\",\n",
    "               \"Broken shackle\"],\n",
    "              [1/500, 1/500, 1/500,\n",
    "               1/500, 1/200, 1/200,\n",
    "               1/200,\n",
    "               1/1000]\n",
    "              ,boss=\"raksha\")\n",
    "print(\"Finished.\")"
   ]
  },
  {
   "cell_type": "code",
   "execution_count": 66,
   "id": "34355cd9",
   "metadata": {},
   "outputs": [],
   "source": [
    "import random\n",
    "\n",
    "# @Returns\n",
    "# A list of DF rows containing information about the item dropped. Also contains\n",
    "# None objects to represent no item dropping.\n",
    "def droppedItem(boss, kill_count=1, base_filepath=\"./data/items/\"):\n",
    "\n",
    "    if kill_count > 100:\n",
    "        kill_count = 100\n",
    "    if kill_count < 1:\n",
    "        kill_count = 1\n",
    "    \n",
    "    csv_filepath=base_filepath + boss + \"/lookup_data.csv\"\n",
    "    data = pd.read_csv(csv_filepath)\n",
    "    \n",
    "    # display(data)\n",
    "    \n",
    "    row_num = data.shape[0]\n",
    "    row_idxs = range(row_num+1)\n",
    "    \n",
    "    drop_rates = list(data[\"drop_rate\"])\n",
    "    # Assumes sum of drop_rates <= 1\n",
    "    new_drs = drop_rates + [1-sum(drop_rates)]\n",
    "    \n",
    "    results = []\n",
    "    chosen_indexs = random.choices(row_idxs, weights=new_drs, k=kill_count)\n",
    "    for i in chosen_indexs:\n",
    "        if i != row_num:\n",
    "            row_chosen = data.iloc[i]\n",
    "        else:\n",
    "            row_chosen = None\n",
    "        results.append(row_chosen)\n",
    "    \n",
    "    return results"
   ]
  },
  {
   "cell_type": "code",
   "execution_count": 70,
   "id": "85447694",
   "metadata": {},
   "outputs": [
    {
     "name": "stdout",
     "output_type": "stream",
     "text": [
      "[None, None, None, None, None, None, None, None, None, None, None, None, None, None, None, None, None, None, None, None, None, None, None, None, None, None, None, None, id                                                       51779\n",
      "name                               Fractured_stabilisation_gem\n",
      "filepath     ./data/items/kerapac/Fractured_stabilisation_g...\n",
      "drop_rate                                           0.00222222\n",
      "Name: 4, dtype: object, None, None, None, None, None, id                                               51812\n",
      "name                                  Scripture_of_Jas\n",
      "filepath     ./data/items/kerapac/Scripture_of_Jas.png\n",
      "drop_rate                                   0.00173225\n",
      "Name: 1, dtype: object, None, None, None, None, None, None, None, None, None, None, None, None, None, None, None, None, None, None, None, None, None, None, None, None, None, None, None, None, None, None, None, None, None, None, id                                                       51782\n",
      "name                        Staff_of_Armadyl's_fractured_shaft\n",
      "filepath     ./data/items/kerapac/Staff_of_Armadyl's_fractu...\n",
      "drop_rate                                           0.00222222\n",
      "Name: 5, dtype: object, None, None, None, None, None, None, None, None, None, None, None, None, None, None, None, None, None, None, None, None, None, None, None, None, None, None, None, None, None, None]\n"
     ]
    }
   ],
   "source": [
    "test_results = droppedItem(\"kerapac\", kill_count=100)\n",
    "print(test_results)"
   ]
  },
  {
   "cell_type": "code",
   "execution_count": 72,
   "id": "d8e8d9af",
   "metadata": {},
   "outputs": [
    {
     "name": "stdout",
     "output_type": "stream",
     "text": [
      "Fractured_stabilisation_gem\n",
      "Scripture_of_Jas\n",
      "Staff_of_Armadyl's_fractured_shaft\n"
     ]
    }
   ],
   "source": [
    "def process_drops(drops):\n",
    "\n",
    "    for elem in drops:\n",
    "        if elem is None:\n",
    "            continue\n",
    "        print(elem[\"name\"])\n",
    "\n",
    "process_drops(test_results)"
   ]
  },
  {
   "cell_type": "code",
   "execution_count": 13,
   "id": "5bd8f2ea",
   "metadata": {},
   "outputs": [
    {
     "data": {
      "text/plain": [
       "['kerapac']"
      ]
     },
     "execution_count": 13,
     "metadata": {},
     "output_type": "execute_result"
    }
   ],
   "source": [
    "import os\n",
    "\n",
    "def get_supported_bosses():\n",
    "    \n",
    "    base_filepath = \"./data/items/\"\n",
    "    \n",
    "    toReturn = []\n",
    "    for p in os.listdir(base_filepath):\n",
    "        to_test = base_filepath + p\n",
    "        if os.path.isdir(to_test) and not p.startswith('.'):\n",
    "            toReturn.append(p)\n",
    "    return toReturn\n",
    "\n",
    "get_supported_bosses()"
   ]
  },
  {
   "cell_type": "code",
   "execution_count": 2,
   "id": "4e10f780",
   "metadata": {},
   "outputs": [],
   "source": [
    "charizard = pb.pokemon('charizard')\n",
    "charmander = pb.pokemon('charmander')"
   ]
  },
  {
   "cell_type": "code",
   "execution_count": 2,
   "id": "e4ffa742",
   "metadata": {
    "scrolled": true
   },
   "outputs": [],
   "source": [
    "# TODO - Move to seperate file for discord bot to import\n",
    "import random\n",
    "\n",
    "# Make annotation\n",
    "def gen_pman_wrapper(pman_like):\n",
    "    \n",
    "    pman = pb.pokemon(pman_like)\n",
    "    if not hasattr(pman, \"types\"):\n",
    "        return None\n",
    "    \n",
    "    return pman\n",
    "\n",
    "def generate_guess():\n",
    "    \n",
    "    pman = gen_pman_wrapper(random.choice(range(1,493+1)))\n",
    "    print(\"The Pokemon to guess is\",pman.name)\n",
    "    \n",
    "    return pman\n",
    "\n",
    "def debug_guess(pman_name):\n",
    "    \n",
    "    pman = gen_pman_wrapper(pman_name)\n",
    "    print(\"The Pokemon to guess is\",pman.name)\n",
    "    \n",
    "    return pman\n",
    "\n",
    "# Hard coded ranges, \n",
    "def id_to_gen(pman_id):\n",
    "    \n",
    "    if pman_id <= 151:\n",
    "        return 1\n",
    "    elif pman_id <= 251:\n",
    "        return 2\n",
    "    elif pman_id <= 386:\n",
    "        return 3\n",
    "    elif pman_id <= 493:\n",
    "        return 4\n",
    "    elif pman_id <= 649:\n",
    "        return 5\n",
    "    elif pman_id <= 721:\n",
    "        return 6\n",
    "    elif pman_id <= 809:\n",
    "        return 7\n",
    "    elif pman_id <= 905:\n",
    "        return 8\n",
    "    \n",
    "def compare(t, g):\n",
    "    \n",
    "    if g > t:\n",
    "        return \"lower\"\n",
    "    elif g < t:\n",
    "        return \"higher\"\n",
    "    return \"equal\"\n",
    "    \n",
    "# @Returns:\n",
    "# - If guessed_pman_name could not be converted to a pokemon object, None.\n",
    "# - If guess was correct, True\n",
    "# - If guess was incorrect, a dictionary\n",
    "def guess_analysis(target_pman, guessed_pman_name):\n",
    "    \n",
    "    # TODO\n",
    "    guessed_pman = gen_pman_wrapper(guessed_pman_name) # Catch error making pman here?\n",
    "    if guessed_pman is None:\n",
    "        print(\"POKEMON NOT FOUND - CHUMBUS TODO\")\n",
    "    \n",
    "    # TODO\n",
    "    if guessed_pman.name == target_pman.name:\n",
    "        return True\n",
    "    \n",
    "    target_types = list(map(lambda t: t.type, target_pman.types))\n",
    "    guessed_types = list(map(lambda t: t.type, guessed_pman.types))\n",
    "    \n",
    "    if len(target_types) < 2:\n",
    "        target_types.append(pb.type_(\"none\"))\n",
    "    if len(guessed_types) < 2:\n",
    "        guessed_types.append(pb.type_(\"none\"))\n",
    "    \n",
    "    type_result = [\"\", \"\"]\n",
    "    \n",
    "    for i, t_type_obj in enumerate(target_types):\n",
    "        for j, g_type_obj in enumerate(guessed_types):\n",
    "            \n",
    "            t_type = t_type_obj.name\n",
    "            g_type = g_type_obj.name\n",
    "            \n",
    "            if i == j and t_type == g_type:\n",
    "                print(\"Type Match!\",t_type,g_type)\n",
    "                type_result[j] = \"green\"\n",
    "            elif i != j and t_type == g_type:\n",
    "                print(\"Type in wrong place!\",t_type,g_type)\n",
    "                type_result[j] = \"yellow\"\n",
    "            elif type_result[j] != \"green\" and type_result[j] != \"yellow\": # Don't override yellows\n",
    "                print(\"Non matching types?\",t_type,g_type)\n",
    "                type_result[j] = \"red\"\n",
    "    \n",
    "    target_gen, target_height, target_weight = id_to_gen(target_pman.id), target_pman.height, target_pman.weight\n",
    "    guessed_gen, guessed_height, guessed_weight = id_to_gen(guessed_pman.id), guessed_pman.height, guessed_pman.weight\n",
    "    \n",
    "    results = {}\n",
    "    results[\"gen\"] = compare(target_gen, guessed_gen)\n",
    "    results[\"type1\"] = type_result[0]\n",
    "    results[\"type2\"] = type_result[1]\n",
    "    results[\"height\"] = compare(target_height, guessed_height)\n",
    "    results[\"weight\"] = compare(target_weight, guessed_weight)\n",
    "    \n",
    "    return results\n",
    "    "
   ]
  },
  {
   "cell_type": "code",
   "execution_count": 3,
   "id": "0d21820b",
   "metadata": {},
   "outputs": [
    {
     "name": "stdout",
     "output_type": "stream",
     "text": [
      "The Pokemon to guess is sableye\n"
     ]
    }
   ],
   "source": [
    "# test_pman = generate_guess()\n",
    "test_pman = debug_guess(\"sableye\")"
   ]
  },
  {
   "cell_type": "code",
   "execution_count": 4,
   "id": "3ba50265",
   "metadata": {},
   "outputs": [
    {
     "name": "stdout",
     "output_type": "stream",
     "text": [
      "Non matching types? dark ghost\n",
      "Type in wrong place! dark dark\n",
      "Type in wrong place! ghost ghost\n"
     ]
    },
    {
     "data": {
      "text/plain": [
       "{'gen': 'lower',\n",
       " 'type1': 'yellow',\n",
       " 'type2': 'yellow',\n",
       " 'height': 'lower',\n",
       " 'weight': 'lower'}"
      ]
     },
     "execution_count": 4,
     "metadata": {},
     "output_type": "execute_result"
    }
   ],
   "source": [
    "guess_analysis(test_pman, \"spiritomb\")"
   ]
  },
  {
   "cell_type": "code",
   "execution_count": 6,
   "id": "ae61b61d",
   "metadata": {},
   "outputs": [
    {
     "data": {
      "text/plain": [
       "True"
      ]
     },
     "execution_count": 6,
     "metadata": {},
     "output_type": "execute_result"
    }
   ],
   "source": [
    "guess_analysis(test_pman, \"sableye\")"
   ]
  },
  {
   "cell_type": "code",
   "execution_count": 7,
   "id": "99494300",
   "metadata": {},
   "outputs": [
    {
     "name": "stdout",
     "output_type": "stream",
     "text": [
      "Type Match! dark dark\n",
      "Non matching types? dark fire\n",
      "Non matching types? ghost fire\n"
     ]
    },
    {
     "data": {
      "text/plain": [
       "{'gen': 'higher',\n",
       " 'type1': 'green',\n",
       " 'type2': 'red',\n",
       " 'height': 'lower',\n",
       " 'weight': 'lower'}"
      ]
     },
     "execution_count": 7,
     "metadata": {},
     "output_type": "execute_result"
    }
   ],
   "source": [
    "guess_analysis(test_pman, \"houndoom\")"
   ]
  },
  {
   "cell_type": "code",
   "execution_count": 8,
   "id": "66f205f3",
   "metadata": {},
   "outputs": [
    {
     "name": "stdout",
     "output_type": "stream",
     "text": [
      "Type Match! dark dark\n",
      "Non matching types? dark none\n",
      "Non matching types? ghost none\n"
     ]
    },
    {
     "data": {
      "text/plain": [
       "{'gen': 'lower',\n",
       " 'type1': 'green',\n",
       " 'type2': 'red',\n",
       " 'height': 'lower',\n",
       " 'weight': 'lower'}"
      ]
     },
     "execution_count": 8,
     "metadata": {},
     "output_type": "execute_result"
    }
   ],
   "source": [
    "guess_analysis(test_pman, \"liepard\")"
   ]
  },
  {
   "cell_type": "code",
   "execution_count": 9,
   "id": "75d7bd3a",
   "metadata": {},
   "outputs": [
    {
     "name": "stdout",
     "output_type": "stream",
     "text": [
      "Non matching types? dark ice\n",
      "Non matching types? dark ghost\n",
      "Non matching types? ghost ice\n",
      "Type Match! ghost ghost\n"
     ]
    },
    {
     "data": {
      "text/plain": [
       "{'gen': 'lower',\n",
       " 'type1': 'red',\n",
       " 'type2': 'green',\n",
       " 'height': 'lower',\n",
       " 'weight': 'lower'}"
      ]
     },
     "execution_count": 9,
     "metadata": {},
     "output_type": "execute_result"
    }
   ],
   "source": [
    "guess_analysis(test_pman, \"froslass\")"
   ]
  },
  {
   "cell_type": "markdown",
   "id": "8971af2b",
   "metadata": {},
   "source": [
    "## Squirdle Image Generation"
   ]
  },
  {
   "cell_type": "code",
   "execution_count": 7,
   "id": "0557044e",
   "metadata": {},
   "outputs": [],
   "source": [
    "import cv2\n",
    "import matplotlib.pyplot as plt\n",
    "import numpy as np\n",
    "\n",
    "def get_squirdle_image(response, squirdle_base_filepath):\n",
    "\n",
    "    im_path = squirdle_base_filepath + response + \".png\"\n",
    "    im = cv2.imread(im_path, cv2.IMREAD_COLOR)\n",
    "\n",
    "    return im\n",
    "\n",
    "def add_text(im, text, position):\n",
    "\n",
    "    font                   = cv2.FONT_HERSHEY_SIMPLEX\n",
    "    bottomLeftCornerOfText = position\n",
    "    fontScale              = 0.5\n",
    "    fontColor              = (255,255,255)\n",
    "    thickness              = 1\n",
    "    lineType               = 2\n",
    "    \n",
    "    im = cv2.putText(im,text,\n",
    "                              bottomLeftCornerOfText, \n",
    "                              font, \n",
    "                              fontScale,\n",
    "                              fontColor,\n",
    "                              thickness,\n",
    "                              lineType)\n",
    "    \n",
    "    return im\n",
    "    \n",
    "def generate_squirdle_image(results):\n",
    "    \n",
    "    # Needed instead of just results due to results being different data types\n",
    "    if results == True:\n",
    "        results = {'gen': 'green', 'type1': 'green', 'type2': 'green', 'height': 'green', 'weight': 'green'}\n",
    "\n",
    "    # TODO - Make self in squirdle when it becomes a class\n",
    "    squirdle_base_filepath = \"./data/squirdle/\"\n",
    "    \n",
    "    collected_ims = []\n",
    "    for k, r in results.items():\n",
    "        \n",
    "        im = get_squirdle_image(r, squirdle_base_filepath)\n",
    "        blank_im = np.zeros((im.shape[0], im.shape[1]//3, 3), dtype=im.dtype)\n",
    "        \n",
    "        collected_ims.append(blank_im)\n",
    "        collected_ims.append(im)\n",
    "    \n",
    "    collected_ims.append(blank_im)\n",
    "    \n",
    "    # Adding padding between images\n",
    "    combined_im = np.concatenate(tuple(collected_ims),axis=1)\n",
    "    # Padding top and bottom of image\n",
    "    blank_im = np.zeros((combined_im.shape[0]//2, combined_im.shape[1], 3), dtype=combined_im.dtype)\n",
    "    combined_im = np.concatenate((blank_im,combined_im,blank_im),axis=0)\n",
    "    \n",
    "    # Convert to RGB for imshow() to display\n",
    "    # combined_im = cv2.cvtColor(combined_im, cv2.COLOR_BGR2RGB)\n",
    "    \n",
    "    combined_im_path = squirdle_base_filepath + \"results.png\"\n",
    "    \n",
    "    for k, pos in zip(results.keys(),[(38,20),(116,20),(200,20),(288,20),(372,20)]):\n",
    "        if \"type\" in k:\n",
    "            k = k[:4] + \" \" + k[4:]\n",
    "        combined_im = add_text(combined_im, k.capitalize(), pos)\n",
    "        \n",
    "    cv2.imwrite(squirdle_base_filepath + \"results.png\", combined_im)\n",
    "    \n",
    "    plt.imshow(combined_im)\n",
    "    plt.show()\n",
    "    \n",
    "    return combined_im_path\n"
   ]
  },
  {
   "cell_type": "code",
   "execution_count": 8,
   "id": "73e6faf3",
   "metadata": {},
   "outputs": [
    {
     "data": {
      "image/png": "[encoded data removed]",
      "text/plain": [
       "<Figure size 432x288 with 1 Axes>"
      ]
     },
     "metadata": {
      "needs_background": "light"
     },
     "output_type": "display_data"
    },
    {
     "data": {
      "text/plain": [
       "'./data/squirdle/results.png'"
      ]
     },
     "execution_count": 8,
     "metadata": {},
     "output_type": "execute_result"
    }
   ],
   "source": [
    "test_results = {'gen': 'lower', 'type1': 'red', 'type2': 'red', 'height': 'lower', 'weight': 'green'}\n",
    "generate_squirdle_image(True)"
   ]
  },
  {
   "cell_type": "code",
   "execution_count": null,
   "id": "1762d8fc",
   "metadata": {},
   "outputs": [],
   "source": []
  }
 ],
 "metadata": {
  "kernelspec": {
   "display_name": "Python 3",
   "language": "python",
   "name": "python3"
  },
  "language_info": {
   "codemirror_mode": {
    "name": "ipython",
    "version": 3
   },
   "file_extension": ".py",
   "mimetype": "text/x-python",
   "name": "python",
   "nbconvert_exporter": "python",
   "pygments_lexer": "ipython3",
   "version": "3.6.8"
  }
 },
 "nbformat": 4,
 "nbformat_minor": 5
}
